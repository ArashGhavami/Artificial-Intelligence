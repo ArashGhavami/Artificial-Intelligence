{
  "cells": [
    {
      "cell_type": "markdown",
      "metadata": {
        "id": "O8sQckN6DF5D"
      },
      "source": [
        "\n",
        "\n",
        "<br>\n",
        "<font>\n",
        "<div dir=ltr align=center>\n",
        "<font color=0F5298 size=7>\n",
        "    Artificial Intelligence <br>\n",
        "<font color=2565AE size=5>\n",
        "    Computer Engineering Department <br>\n",
        "    Spring 2025<br>\n",
        "<font color=3C99D size=5>\n",
        "    Practical Assignment 3\n",
        "    <br>\n",
        "     Hidden Markov Models -Bayes Net <br>\n",
        "<font color=696880 size=4>\n",
        "Amirardalan Dehghanpour\n"
      ]
    },
    {
      "cell_type": "markdown",
      "metadata": {
        "id": "eE3xCU5zDZz5"
      },
      "source": [
        "Arash Ghavami\n",
        "402106359"
      ]
    },
    {
      "cell_type": "markdown",
      "metadata": {
        "id": "4tLpNArbDoYg"
      },
      "source": [
        "# HMM Assignment\n",
        "\n",
        " –Sequence Modeling with Hidden Markov Models (HMM)\n",
        "\n",
        "## Part 1: HMM Models\n",
        "\n",
        "\n",
        "Introduce the concept of Hidden Markov Models (HMMs) and their applications in sequence modeling.\n",
        "\n",
        "### -What is an HMM?\n",
        "A Hidden Markov Model is a statistical model that represents systems with:\n",
        "1. **Hidden states** – not directly observable (e.g., phonemes, weather conditions, gene regions).\n",
        "2. **Observable outputs** – emitted signals or features (e.g., audio features, weather observations).\n",
        "\n",
        "### - Key Components of an HMM:\n",
        "- **States (Z)**: Hidden variables (e.g., phonemes in speech recognition).\n",
        "- **Observations (X)**: Observable features (e.g., MFCCs from audio).\n",
        "- **Initial Probabilities (π)**: Probability of starting in a particular state.\n",
        "- **Transition Probabilities (A)**: Probability of moving from one state to another.\n",
        "- **Emission Probabilities (B)**: Probability of observing a value given a state.\n",
        "\n",
        "### -HMM Process Overview:\n",
        "At each time step `t`, the system:\n",
        "1. Transitions from one state to another using **transition probability A**\n",
        "2. Emits an observation using **emission probability B**\n",
        "\n",
        "### - Why Use HMMs?\n",
        "HMMs are useful for modeling sequential data where the underlying structure is hidden but can be inferred from observations.\n",
        "\n",
        "#### Example Applications:\n",
        "- **Speech Recognition** – Infer phonemes from audio features\n",
        "- **Natural Language Processing** – POS tagging, named entity recognition\n",
        "- **Bioinformatics** – Identify coding vs. non-coding DNA regions\n",
        "- **Finance** – Regime detection in time series\n",
        "\n",
        "---\n",
        "\n",
        " In this part, we will:\n",
        "- Work with dna datasets\n",
        "- Extract HMM parameters from data\n",
        "- Implement HMM algorithms from scratch\n",
        "- Visualize results to understand hidden sequences\n",
        "\n"
      ]
    },
    {
      "cell_type": "markdown",
      "metadata": {
        "id": "5vfdLALvSqrO"
      },
      "source": [
        "## Part 2: Extract HMM Parameters from DNA Dataset ##\n",
        "\n",
        "In this section, you'll use a labeled DNA dataset to extract the core parameters of a Hidden Markov Model:\n",
        "- **Initial Probabilities** – likelihood of starting in a specific hidden state\n",
        "- **Transition Matrix** – probabilities of switching from one hidden state to another\n",
        "- **Emission Matrix** – probabilities of emitting a specific observation given the hidden state\n",
        "\n",
        "We are given labeled sequences of DNA nucleotides with associated hidden states (`Coding` or `NonCoding`). Using this, we can compute the HMM parameters as follows:\n",
        "\n",
        "\n",
        "####  Initial Probabilities (π)\n",
        "- For each sequence, check the **first position** (Position == 1).\n",
        "- Count how many times each hidden state appears at the start.\n",
        "- Normalize the counts to get the starting probability distribution.\n",
        "\n",
        "####  Transition Probabilities (A)\n",
        "- For each sequence, look at every **pair of consecutive states** (from Position _t_ to _t+1_).\n",
        "- Count how often each transition occurs (e.g., Coding → Coding, Coding → NonCoding).\n",
        "- For each state, normalize its outgoing transition counts to sum to 1.\n",
        "\n",
        "####  Emission Probabilities (B)\n",
        "- For each state, count how frequently it emits each nucleotide (A, C, G, T).\n",
        "- Normalize these counts within each state.\n",
        "\n",
        "This method is based on **maximum likelihood estimation(MLE)** using frequency counts, which is valid because we have access to the true hidden states.\n",
        "These parameters will be used in later for performing inference (Forward/Viterbi).\n",
        "\n"
      ]
    },
    {
      "cell_type": "markdown",
      "metadata": {
        "id": "pEoz9XPzVHFV"
      },
      "source": [
        " ## Load the Dataset ##"
      ]
    },
    {
      "cell_type": "code",
      "execution_count": 97,
      "metadata": {
        "colab": {
          "base_uri": "https://localhost:8080/"
        },
        "id": "5lnwp1Xh72Rh",
        "outputId": "ad8c0d63-961c-4f18-ca70-29a73c0a23c5"
      },
      "outputs": [
        {
          "output_type": "stream",
          "name": "stdout",
          "text": [
            "   Sequence_ID  Position Nucleotide      State\n",
            "0            1         1          A     Coding\n",
            "1            1         2          G  NonCoding\n",
            "2            1         3          G     Coding\n",
            "3            1         4          A  NonCoding\n",
            "4            1         5          T     Coding\n"
          ]
        }
      ],
      "source": [
        "import pandas as pd\n",
        "import numpy as np\n",
        "df = pd.read_csv(\"dna_dataset.csv\")\n",
        "print(df.head())"
      ]
    },
    {
      "cell_type": "markdown",
      "metadata": {
        "id": "iI3SDp-GVp_B"
      },
      "source": [
        "## Identify Unique States and Observations ##"
      ]
    },
    {
      "cell_type": "code",
      "execution_count": 98,
      "metadata": {
        "colab": {
          "base_uri": "https://localhost:8080/"
        },
        "id": "vElphboOUiMJ",
        "outputId": "f0231f19-1795-4505-cba5-1f29be4f8638"
      },
      "outputs": [
        {
          "output_type": "stream",
          "name": "stdout",
          "text": [
            "Hidden States: ['Coding', 'NonCoding']\n",
            "Observable Symbols (Nucleotides): ['A', 'G', 'T', 'C']\n"
          ]
        }
      ],
      "source": [
        "states = df['State'].unique().tolist()\n",
        "observations = df['Nucleotide'].unique().tolist()\n",
        "print(\"Hidden States:\", states)\n",
        "print(\"Observable Symbols (Nucleotides):\", observations)"
      ]
    },
    {
      "cell_type": "markdown",
      "metadata": {
        "id": "Z8QHyg9MVtHU"
      },
      "source": [
        "## Estimate Initial Probabilities (π) ##"
      ]
    },
    {
      "cell_type": "code",
      "execution_count": 99,
      "metadata": {
        "colab": {
          "base_uri": "https://localhost:8080/"
        },
        "id": "khYvv2bNU1mK",
        "outputId": "e13b0cda-c145-4575-d7b6-76149d860b2c"
      },
      "outputs": [
        {
          "output_type": "stream",
          "name": "stdout",
          "text": [
            "Initial Probabilities (π): {'NonCoding': 0.51, 'Coding': 0.49}\n"
          ]
        }
      ],
      "source": [
        "initial_states = df[df['Position'] == 1]['State']\n",
        "initial_counts = initial_states.value_counts()\n",
        "initial_probs = (initial_counts / initial_counts.sum()).to_dict()\n",
        "print(\"Initial Probabilities (π):\", initial_probs)"
      ]
    },
    {
      "cell_type": "markdown",
      "metadata": {
        "id": "XfFEhXMBV07a"
      },
      "source": [
        "## Estimate Transition Probabilities (A) ##"
      ]
    },
    {
      "cell_type": "code",
      "execution_count": 100,
      "metadata": {
        "colab": {
          "base_uri": "https://localhost:8080/"
        },
        "id": "ha88YAjyU8Ry",
        "outputId": "1cdb22f0-010b-4f57-dbc0-e0cf120c5410"
      },
      "outputs": [
        {
          "output_type": "stream",
          "name": "stdout",
          "text": [
            "Transition Probabilities (A):\n",
            "Coding → {'NonCoding': 0.5549224857559295, 'Coding': 0.4450775142440705}\n",
            "NonCoding → {'Coding': 0.5823615160349854, 'NonCoding': 0.4176384839650146}\n"
          ]
        }
      ],
      "source": [
        "from collections import defaultdict\n",
        "\n",
        "transition_counts = defaultdict(lambda: defaultdict(int))\n",
        "for _, group in df.groupby('Sequence_ID'):\n",
        "    states = group.sort_values('Position')['State'].values\n",
        "    for i in range(len(states) - 1):\n",
        "        from_state = states[i]\n",
        "        to_state = states[i + 1]\n",
        "        transition_counts[from_state][to_state] += 1\n",
        "transition_probs = {}\n",
        "for from_state, to_dict in transition_counts.items():\n",
        "    total = sum(to_dict.values())\n",
        "    transition_probs[from_state] = {to_state: count / total for to_state, count in to_dict.items()}\n",
        "print(\"Transition Probabilities (A):\")\n",
        "for from_state, to_probs in transition_probs.items():\n",
        "    print(from_state, \"→\", to_probs)"
      ]
    },
    {
      "cell_type": "markdown",
      "metadata": {
        "id": "wHCLsebTV3-Q"
      },
      "source": [
        "## Estimate Emission Probabilities (B) ##"
      ]
    },
    {
      "cell_type": "code",
      "execution_count": 101,
      "metadata": {
        "colab": {
          "base_uri": "https://localhost:8080/"
        },
        "id": "golvyftIVATT",
        "outputId": "f97c0e88-d8ed-4e2c-cbc8-dc7bbaf160a8"
      },
      "outputs": [
        {
          "output_type": "stream",
          "name": "stdout",
          "text": [
            "Emission Probabilities (B):\n",
            "Coding → {'A': 0.2556261195245074, 'G': 0.24950333821853118, 'T': 0.2441947565543071, 'C': 0.2506757857026543}\n",
            "NonCoding → {'G': 0.1501962792285373, 'A': 0.35343915343915344, 'C': 0.14794333504010923, 'T': 0.3484212322922}\n"
          ]
        }
      ],
      "source": [
        "from collections import defaultdict\n",
        "\n",
        "emission_counts = defaultdict(lambda: defaultdict(int))\n",
        "\n",
        "for _, row in df.iterrows():\n",
        "    state = row['State']\n",
        "    obs = row['Nucleotide']\n",
        "    emission_counts[state][obs] += 1\n",
        "\n",
        "emission_probs = {}\n",
        "for state, obs_dict in emission_counts.items():\n",
        "    total = sum(obs_dict.values())\n",
        "    emission_probs[state] = {obs: count / total for obs, count in obs_dict.items()}\n",
        "\n",
        "print(\"Emission Probabilities (B):\")\n",
        "for state, probs in emission_probs.items():\n",
        "    print(state, \"→\", probs)"
      ]
    },
    {
      "cell_type": "markdown",
      "metadata": {
        "id": "l-3vE9r9Ko5P"
      },
      "source": [
        "## Part 4: Forward Algorithm (Filtering with Elapse Time + Observation)\n",
        "\n",
        "The **Forward Algorithm** helps us compute the probability of an observation sequence in a Hidden Markov Model (HMM). It also gives us the belief about the system's hidden state at each time step.\n",
        "\n",
        "To do this, it recursively applies two updates at each time step `t`:\n",
        "\n",
        "\n",
        "###  Step 1: Elapse Time (Prediction)\n",
        "Predict the probability of being in each hidden state at time `t`, before seeing the new observation:\n",
        "\n",
        "$$\n",
        "P(x_t | e_{1:t-1}) = \\sum_{x_{t-1}} P(x_t | x_{t-1}) \\cdot P(x_{t-1} | e_{1:t-1})\n",
        "$$\n",
        "\n",
        "This uses the **transition probabilities (A)** and previous beliefs.\n",
        "\n",
        "\n",
        "###  Step 2: Observation Update (Bayesian Update)\n",
        "Once we see the new observation `e_t`, we update our beliefs:\n",
        "\n",
        "$$\n",
        "P(x_t | e_{1:t}) \\propto P(e_t | x_t) \\cdot P(x_t | e_{1:t-1})\n",
        "$$\n",
        "\n",
        "This uses the **emission probabilities (B)** and normalizes the result.\n",
        "\n",
        "\n",
        "### Final Result:\n",
        "- We maintain a belief `α_t(x)` for each state `x` at every time step.\n",
        "- We can compute the total probability of the sequence by summing the final α values.\n",
        "\n"
      ]
    },
    {
      "cell_type": "code",
      "execution_count": 102,
      "metadata": {
        "id": "-nkAkw2cKppj"
      },
      "outputs": [],
      "source": [
        "def elapse_time(prior, transition_probs, states):\n",
        "\n",
        "    prediction = {}\n",
        "    for curr_state in states:\n",
        "        prob = sum(\n",
        "            prior[prev_state] * transition_probs[prev_state].get(curr_state, 0)\n",
        "            for prev_state in states\n",
        "        )\n",
        "        prediction[curr_state] = prob\n",
        "    return prediction"
      ]
    },
    {
      "cell_type": "code",
      "execution_count": 103,
      "metadata": {
        "id": "5Dptj_FYQ_5o"
      },
      "outputs": [],
      "source": [
        "def observe(predicted, observation, emission_probs, states):\n",
        "\n",
        "    updated = {}\n",
        "    for state in states:\n",
        "        emit_prob = emission_probs[state].get(observation, 0)\n",
        "        updated[state] = predicted[state] * emit_prob\n",
        "\n",
        "    total = sum(updated.values())\n",
        "    if total > 0:\n",
        "        for state in updated:\n",
        "            updated[state] /= total\n",
        "    return updated"
      ]
    },
    {
      "cell_type": "code",
      "execution_count": 104,
      "metadata": {
        "id": "JFWK3lT5REqP"
      },
      "outputs": [],
      "source": [
        "def forward_algorithm(observation_sequence, states, start_probs, transition_probs, emission_probs):\n",
        "\n",
        "    alpha_list = []\n",
        "    initial_observation = observation_sequence[0]\n",
        "    alpha_0 = {}\n",
        "    for state in states:\n",
        "        alpha_0[state] = start_probs[state] * emission_probs[state].get(initial_observation, 0)\n",
        "    total = sum(alpha_0.values())\n",
        "    if total > 0:\n",
        "        for state in alpha_0:\n",
        "            alpha_0[state] /= total\n",
        "    alpha_list.append(alpha_0)\n",
        "    for t in range(1, len(observation_sequence)):\n",
        "        predicted = elapse_time(alpha_list[-1], transition_probs, states)\n",
        "        updated = observe(predicted, observation_sequence[t], emission_probs, states)\n",
        "        alpha_list.append(updated)\n",
        "    sequence_prob = sum(alpha_list[-1].values())\n",
        "    return alpha_list, sequence_prob"
      ]
    },
    {
      "cell_type": "code",
      "execution_count": 105,
      "metadata": {
        "colab": {
          "base_uri": "https://localhost:8080/"
        },
        "id": "s47NIILHSJ9h",
        "outputId": "32b92a3c-cfd2-4f6a-d0d7-f60d0e940ced"
      },
      "outputs": [
        {
          "output_type": "stream",
          "name": "stdout",
          "text": [
            "\n",
            "Total probability of sequence ['A', 'C', 'C', 'T', 'T', 'T', 'A', 'G']: 1.000000\n",
            "\n",
            "Belief at final time step:\n",
            "P(NonCoding) = 0.3612\n",
            "P(Coding) = 0.6388\n"
          ]
        }
      ],
      "source": [
        "test_sequence = ['A','C','C','T','T','T','A','G']\n",
        "alpha_vals, prob = forward_algorithm(\n",
        "    test_sequence,\n",
        "    states,\n",
        "    initial_probs,\n",
        "    transition_probs,\n",
        "    emission_probs\n",
        ")\n",
        "\n",
        "print(f\"\\nTotal probability of sequence {test_sequence}: {prob:.6f}\")\n",
        "print(\"\\nBelief at final time step:\")\n",
        "for state, p in alpha_vals[-1].items():\n",
        "    print(f\"P({state}) = {p:.4f}\")"
      ]
    },
    {
      "cell_type": "markdown",
      "metadata": {
        "id": "bU1YBOafTy9z"
      },
      "source": [
        "## Part 5: Viterbi Algorithm – Most Likely State Sequence\n",
        "\n",
        "While the Forward Algorithm gives us the probability of a sequence of observations, the **Viterbi Algorithm** answers a different question:\n",
        "\n",
        "> What is the **most likely sequence of hidden states** that could have generated this observation sequence?\n",
        "\n",
        "\n",
        "\n",
        "The Viterbi Algorithm is a dynamic programming approach. At each time step `t`, it keeps track of:\n",
        "\n",
        "- The **highest probability path** to each state.\n",
        "- A **backpointer** that tells us which state led to that one.\n",
        "\n",
        "###  Two Main Steps:\n",
        "\n",
        "1. **Recursion (Forward Pass):**\n",
        "$$\n",
        "\\delta_t(s) = \\max_{s'} [\\delta_{t-1}(s') \\cdot P(s | s')] \\cdot P(obs_t | s)\n",
        "$$\n",
        "\n",
        "2. **Backtracking (Backward Pass):**\n",
        "$$\n",
        "\\text{Backtrace from final best state} \\rightarrow \\text{recover most likely path}\n",
        "$$\n",
        "\n",
        "\n",
        "\n"
      ]
    },
    {
      "cell_type": "code",
      "execution_count": 106,
      "metadata": {
        "id": "hwHMxaPHUM4E"
      },
      "outputs": [],
      "source": [
        "def viterbi(obs, states, start_p, trans_p, emit_p):\n",
        "    T = len(obs)\n",
        "    V = [{} for _ in range(T)]\n",
        "    backpointer = [{} for _ in range(T)]\n",
        "    for state in states:\n",
        "        V[0][state] = start_p[state] * emit_p[state].get(obs[0], 0)\n",
        "        backpointer[0][state] = None\n",
        "    for t in range(1, T):\n",
        "        for curr_state in states:\n",
        "            max_prob, prev_state = max(\n",
        "                [(V[t-1][prev_state] * trans_p[prev_state].get(curr_state, 0), prev_state)\n",
        "                 for prev_state in states],\n",
        "                key=lambda x: x[0]\n",
        "            )\n",
        "            V[t][curr_state] = max_prob * emit_p[curr_state].get(obs[t], 0)\n",
        "            backpointer[t][curr_state] = prev_state\n",
        "    prob, last_state = max([(V[T-1][state], state) for state in states], key=lambda x: x[0])\n",
        "    path = [last_state]\n",
        "    for t in range(T - 1, 0, -1):\n",
        "        last_state = backpointer[t][last_state]\n",
        "        path.insert(0, last_state)\n",
        "    return prob, path"
      ]
    },
    {
      "cell_type": "code",
      "execution_count": 107,
      "metadata": {
        "colab": {
          "base_uri": "https://localhost:8080/"
        },
        "id": "DJoOChkcUR6V",
        "outputId": "592c098e-dabb-4c0c-bd12-190663649e7e"
      },
      "outputs": [
        {
          "output_type": "stream",
          "name": "stdout",
          "text": [
            "Observation sequence: ['A', 'C', 'G', 'T', 'A', 'A', 'C', 'C', 'C', 'A']\n",
            "Most likely state sequence: ['NonCoding', 'Coding', 'Coding', 'NonCoding', 'Coding', 'NonCoding', 'Coding', 'Coding', 'Coding', 'NonCoding']\n",
            "Probability of this path: 5.879383986938688e-09\n"
          ]
        }
      ],
      "source": [
        "obs_seq = ['A', 'C', 'G', 'T', 'A','A', 'C', 'C', 'C', 'A']\n",
        "prob, most_likely_path = viterbi(\n",
        "    obs_seq,\n",
        "    states,\n",
        "    initial_probs,\n",
        "    transition_probs,\n",
        "    emission_probs\n",
        ")\n",
        "print(\"Observation sequence:\", obs_seq)\n",
        "print(\"Most likely state sequence:\", most_likely_path)\n",
        "print(\"Probability of this path:\", prob)"
      ]
    },
    {
      "cell_type": "markdown",
      "metadata": {
        "id": "SBJ0kz6_n-V3"
      },
      "source": [
        "## Part 6: Visualizing the Most Likely Hidden State Sequence (Viterbi Path)\n",
        "\n",
        "After using the Viterbi algorithm, we get the **most likely sequence of hidden states** that could have produced the given observations.\n",
        "\n",
        "In this part, we'll:\n",
        "1. Visually display the Viterbi path over time.\n",
        "2. Compare it with the **true hidden state sequence** (if known).\n",
        "3. Visualize it on top of the **Forward Algorithm belief heatmap**.\n",
        "\n",
        "This helps understand where the model is confident, where it might be uncertain, and how accurate the predictions are.\n"
      ]
    },
    {
      "cell_type": "code",
      "execution_count": 108,
      "metadata": {
        "id": "V2ik15hooGq0"
      },
      "outputs": [],
      "source": [
        "import matplotlib.pyplot as plt\n",
        "\n",
        "def plot_viterbi_path(viterbi_path, states, title=\"Viterbi Most Likely Path\"):\n",
        "    state_to_int = {state: i for i, state in enumerate(states)}\n",
        "    y_values = [state_to_int[state] for state in viterbi_path]\n",
        "    x_values = list(range(1, len(viterbi_path) + 1))\n",
        "\n",
        "    plt.figure(figsize=(12, 2.5))\n",
        "    plt.plot(x_values, y_values, marker='o', linestyle='-', color='red', label='Viterbi Path')\n",
        "    plt.yticks(ticks=list(state_to_int.values()), labels=list(state_to_int.keys()))\n",
        "    plt.xlabel(\"Position in Sequence\")\n",
        "    plt.ylabel(\"State\")\n",
        "    plt.title(title)\n",
        "    plt.grid(True, linestyle='--', alpha=0.6)\n",
        "    plt.tight_layout()\n",
        "    plt.show()"
      ]
    },
    {
      "cell_type": "code",
      "execution_count": 109,
      "metadata": {
        "colab": {
          "base_uri": "https://localhost:8080/",
          "height": 257
        },
        "id": "ok79LhSdoJIQ",
        "outputId": "ffbad185-077f-4897-deee-f03d89d7aee2"
      },
      "outputs": [
        {
          "output_type": "display_data",
          "data": {
            "text/plain": [
              "<Figure size 1200x250 with 1 Axes>"
            ],
            "image/png": "[encoded data removed]"
          },
          "metadata": {}
        }
      ],
      "source": [
        "obs_seq = ['A', 'C', 'T', 'G', 'A']\n",
        "prob, viterbi_path = viterbi(obs_seq, states, initial_probs, transition_probs, emission_probs)\n",
        "plot_viterbi_path(viterbi_path, states)"
      ]
    },
    {
      "cell_type": "markdown",
      "metadata": {
        "id": "NiBtzWSML13w"
      },
      "source": [
        "# Bayesian Networks\n",
        "\n",
        "In this assignment, we will work with a Bayesian Network based on a scenario: **a group of friends deciding whether to order pizza** and how that decision, along with other factors, affects their evening satisfaction.\n",
        "\n",
        "We'll learn how to:\n",
        "- Represent a Bayesian Network\n",
        "- Define its conditional probability tables (CPTs)\n",
        "- Implement inference algorithms\n",
        "\n",
        "---\n",
        "\n",
        "## Scenario\n",
        "\n",
        "Imagine a group of friends planning their evening. They may or may not be hungry. It might be a weekend. These factors influence whether they decide to order pizza. If pizza is ordered **and** friends are free, they might plan a movie night. The presence of a movie night then affects how satisfied they are.\n",
        "\n",
        "---\n",
        "\n",
        "## 🔍 Variables\n",
        "\n",
        "| Variable | Description | Values |\n",
        "|----------|-------------|--------|\n",
        "| `H` | It's a hungry day | {True, False} |\n",
        "| `W` | It's the weekend | {True, False} |\n",
        "| `P` | They order pizza | {True, False} |\n",
        "| `F` | Friends are free | {True, False} |\n",
        "| `M` | Movie night is planned | {True, False} |\n",
        "| `S` | Satisfaction level | {'high', 'medium', 'low'} |\n",
        "\n",
        "---\n",
        "\n",
        "## 🔗 Network Structure\n",
        "\n",
        "The relationships among the variables and their conditional probablities follow these tables:\n",
        "\n",
        "### P(H) — Hungry\n",
        "| H     | P(H) |\n",
        "|-------|------|\n",
        "| True  | 0.6  |\n",
        "| False | 0.4  |\n",
        "\n",
        "### P(W) — Weekend\n",
        "| W     | P(W) |\n",
        "|-------|------|\n",
        "| True  | 0.3  |\n",
        "| False | 0.7  |\n",
        "\n",
        "### P(F) — Friends Free\n",
        "| F     | P(F) |\n",
        "|-------|------|\n",
        "| True  | 0.8  |\n",
        "| False | 0.2  |\n",
        "\n",
        "### P(P | H, W) — Pizza\n",
        "| H     | W     | P(P=True) | P(P=False) |\n",
        "|-------|-------|-----------|------------|\n",
        "| True  | True  | 0.95      | 0.05       |\n",
        "| True  | False | 0.7       | 0.3        |\n",
        "| False | True  | 0.5       | 0.5        |\n",
        "| False | False | 0.1       | 0.9        |\n",
        "\n",
        "### P(M | P, F) — Movie Night\n",
        "| P     | F     | P(M=True) | P(M=False) |\n",
        "|-------|-------|-----------|------------|\n",
        "| True  | True  | 0.9       | 0.1        |\n",
        "| True  | False | 0.4       | 0.6        |\n",
        "| False | True  | 0.6       | 0.4        |\n",
        "| False | False | 0.2       | 0.8        |\n",
        "\n",
        "### P(S | M) — Satisfaction\n",
        "| M     | S        | P(S)   |\n",
        "|-------|----------|--------|\n",
        "| True  | high     | 0.7    |\n",
        "|       | medium   | 0.25   |\n",
        "|       | low      | 0.05   |\n",
        "| False | high     | 0.1    |\n",
        "|       | medium   | 0.3    |\n",
        "|       | low      | 0.6    |\n",
        "\n",
        "\n"
      ]
    },
    {
      "cell_type": "markdown",
      "metadata": {
        "id": "xqt_QjjkNED-"
      },
      "source": [
        "###  Step 1: Define and Visualize the Bayesian Network\n",
        "#### Your task in this step:\n",
        "##### 1. Draw the Bayesian Network using networkx and matplotlib\n",
        "##### 2. Create a dictionary called `bayes_net` that stores all variables, their parents, and their CPTs"
      ]
    },
    {
      "cell_type": "code",
      "execution_count": 110,
      "metadata": {
        "id": "wWAcKOFpNwE1"
      },
      "outputs": [],
      "source": [
        "import networkx as nx\n",
        "import matplotlib.pyplot as plt"
      ]
    },
    {
      "cell_type": "code",
      "execution_count": 111,
      "metadata": {
        "colab": {
          "base_uri": "https://localhost:8080/",
          "height": 677
        },
        "id": "cGBlqvVCOBTn",
        "outputId": "62e0318d-5314-4040-89b5-c46a2c35d7f5"
      },
      "outputs": [
        {
          "output_type": "display_data",
          "data": {
            "text/plain": [
              "<Figure size 800x600 with 1 Axes>"
            ],
            "image/png": "[encoded data removed]"
          },
          "metadata": {}
        },
        {
          "output_type": "stream",
          "name": "stdout",
          "text": [
            "P(P=True | H=True, W=False) = 0.7\n"
          ]
        }
      ],
      "source": [
        "import networkx as nx\n",
        "import matplotlib.pyplot as plt\n",
        "\n",
        "G = nx.DiGraph()\n",
        "G.add_edge('H', 'P')\n",
        "G.add_edge('W', 'P')\n",
        "G.add_edge('F', 'M')\n",
        "G.add_edge('P', 'M')\n",
        "G.add_edge('M', 'S')\n",
        "\n",
        "plt.figure(figsize=(8, 6))\n",
        "pos = nx.spring_layout(G, seed=42)\n",
        "nx.draw(G, pos, with_labels=True, node_size=2000, node_color='lightyellow',\n",
        "        font_size=14, edge_color='gray')\n",
        "plt.title(\"Bayesian Network: Pizza Night\")\n",
        "plt.show()\n",
        "\n",
        "bayes_net = {\n",
        "    'H': {\n",
        "        'parents': [],\n",
        "        'values': [True, False],\n",
        "        'cpt': {\n",
        "            True: 0.6,\n",
        "            False: 0.4\n",
        "        }\n",
        "    },\n",
        "    'W': {\n",
        "        'parents': [],\n",
        "        'values': [True, False],\n",
        "        'cpt': {\n",
        "            True: 0.3,\n",
        "            False: 0.7\n",
        "        }\n",
        "    },\n",
        "    'F': {\n",
        "        'parents': [],\n",
        "        'values': [True, False],\n",
        "        'cpt': {\n",
        "            True: 0.8,\n",
        "            False: 0.2\n",
        "        }\n",
        "    },\n",
        "    'P': {\n",
        "        'parents': ['H', 'W'],\n",
        "        'values': [True, False],\n",
        "        'cpt': {\n",
        "            (True, True): {True: 0.95, False: 0.05},\n",
        "            (True, False): {True: 0.7, False: 0.3},\n",
        "            (False, True): {True: 0.5, False: 0.5},\n",
        "            (False, False): {True: 0.1, False: 0.9}\n",
        "        }\n",
        "    },\n",
        "    'M': {\n",
        "        'parents': ['P', 'F'],\n",
        "        'values': [True, False],\n",
        "        'cpt': {\n",
        "            (True, True): {True: 0.9, False: 0.1},\n",
        "            (True, False): {True: 0.4, False: 0.6},\n",
        "            (False, True): {True: 0.6, False: 0.4},\n",
        "            (False, False): {True: 0.2, False: 0.8}\n",
        "        }\n",
        "    },\n",
        "    'S': {\n",
        "        'parents': ['M'],\n",
        "        'values': ['high', 'medium', 'low'],\n",
        "        'cpt': {\n",
        "            True: {'high': 0.7, 'medium': 0.25, 'low': 0.05},\n",
        "            False: {'high': 0.1, 'medium': 0.3, 'low': 0.6}\n",
        "        }\n",
        "    }\n",
        "}\n",
        "\n",
        "def get_prob(var, value, evidence, bayes_net):\n",
        "\n",
        "    node = bayes_net[var]\n",
        "    parents = node['parents']\n",
        "    cpt = node['cpt']\n",
        "\n",
        "    if not parents:\n",
        "        return cpt[value]\n",
        "    else:\n",
        "        try:\n",
        "            if len(parents) == 1:\n",
        "                key = evidence[parents[0]]\n",
        "            else:\n",
        "                key = tuple(evidence[parent] for parent in parents)\n",
        "        except KeyError as e:\n",
        "            raise ValueError(f\"Missing parent '{e.args[0]}' for variable '{var}' in evidence.\")\n",
        "\n",
        "        return cpt[key][value]\n",
        "print(\"P(P=True | H=True, W=False) =\", get_prob('P', True, {'H': True, 'W': False}, bayes_net))"
      ]
    },
    {
      "cell_type": "markdown",
      "metadata": {
        "id": "nACph37ySuHn"
      },
      "source": [
        "# Step 2: Inference by Enumeration\n",
        "\n",
        "In this step, you'll implement **exact inference** in a Bayesian Network using the **enumeration algorithm**.\n",
        "\n",
        "---\n",
        "\n",
        "##  Goal :\n",
        "\n",
        "We want to compute the probability of a **query variable** given some **evidence**.  \n",
        "For example:\n",
        "\n",
        "$$\n",
        "P(S = \\text{high} \\mid H = \\text{True}, W = \\text{True})\n",
        "$$\n",
        "\n",
        "To do this, we'll use:\n",
        "\n",
        "1. **A recursive function `enumerate_all`**  \n",
        "   - Loops through all hidden variables and sums over them\n",
        "   - Multiplies conditional probabilities using the Bayesian Network\n",
        "\n",
        "2. **A main function `query_enum`**  \n",
        "   - Computes the numerator: probability of the query value given evidence\n",
        "   - Computes the denominator: normalization over all possible values of the query variable\n",
        "   - Returns the final **normalized probability**\n",
        "\n",
        "---\n",
        "\n",
        "\n",
        "\n",
        "\n"
      ]
    },
    {
      "cell_type": "code",
      "execution_count": 112,
      "metadata": {
        "id": "0vPW0A6tSw0X"
      },
      "outputs": [],
      "source": [
        "variables = ['H', 'W', 'F', 'P', 'M', 'S']\n",
        "\n",
        "def enumerate_all(vars_left, evidence, bayes_net):\n",
        "    if not vars_left:\n",
        "        return 1.0\n",
        "\n",
        "    first = vars_left[0]\n",
        "    rest = vars_left[1:]\n",
        "\n",
        "    if first in evidence:\n",
        "        prob = get_prob(first, evidence[first], evidence, bayes_net)\n",
        "        return prob * enumerate_all(rest, evidence, bayes_net)\n",
        "    else:\n",
        "        total = 0.0\n",
        "        for val in bayes_net[first]['values']:\n",
        "            new_evidence = evidence.copy()\n",
        "            new_evidence[first] = val\n",
        "            prob = get_prob(first, val, evidence, bayes_net)\n",
        "            total += prob * enumerate_all(rest, new_evidence, bayes_net)\n",
        "        return total\n",
        "\n",
        "def query_enum(query_var, query_val, evidence, bayes_net):\n",
        "    extended = evidence.copy()\n",
        "    extended[query_var] = query_val\n",
        "    numerator = enumerate_all(variables, extended, bayes_net)\n",
        "    denominator = 0.0\n",
        "    for val in bayes_net[query_var]['values']:\n",
        "        extended = evidence.copy()\n",
        "        extended[query_var] = val\n",
        "        denominator += enumerate_all(variables, extended, bayes_net)\n",
        "\n",
        "    return numerator / denominator if denominator != 0 else 0.0"
      ]
    },
    {
      "cell_type": "code",
      "execution_count": 113,
      "metadata": {
        "colab": {
          "base_uri": "https://localhost:8080/"
        },
        "id": "bLlNYAgkUGFH",
        "outputId": "3861eb9e-0a59-4fda-aa26-faf9cbd7c9f9"
      },
      "outputs": [
        {
          "output_type": "stream",
          "name": "stdout",
          "text": [
            "P(S = 'high' | H=True, W=True) = 0.5716\n"
          ]
        }
      ],
      "source": [
        "result = query_enum('S', 'high', {'H': True, 'W': True}, bayes_net)\n",
        "print(f\"P(S = 'high' | H=True, W=True) = {result:.4f}\")"
      ]
    },
    {
      "cell_type": "markdown",
      "metadata": {
        "id": "wwMEd-Bj4x-m"
      },
      "source": [
        "#  Step 3: Inference with Variable Elimination\n",
        "\n",
        "In this step, you will implement **inference using Variable Elimination** — an exact, more efficient alternative to Enumeration.\n",
        "\n",
        "---\n",
        "\n",
        "## Core Ideas:\n",
        "\n",
        "- Instead of computing the full joint distribution, we work with **factors**.\n",
        "- A factor is a table mapping variable assignments to probabilities.\n",
        "- We **join factors** together (multiplication).\n",
        "- We **eliminate hidden variables** (sum them out).\n",
        "- At the end, we normalize the final factor.\n",
        "\n",
        "---\n",
        "\n",
        "## Inputs\n",
        "- `query_var`: The variable we're asking about (e.g. `'S'`)\n",
        "- `query_val`: The value we want (e.g. `'high'`)\n",
        "- `evidence`: Observed variables\n",
        "- `bayes_net`: The full Bayesian Network\n",
        "\n",
        "---\n",
        "\n",
        "## What You’ll Implement\n",
        "1. **Factor Construction**: Build initial factors from CPTs.\n",
        "2. **Restrict for Evidence**: Incorporate evidence early by pruning CPTs.\n",
        "3. **Join**: Combine factors that mention the same variable.\n",
        "4. **Eliminate**: Marginalize out variables not in the query or evidence.\n",
        "5. **Normalize**: Get valid probability distribution.\n",
        "\n",
        "---\n",
        "\n"
      ]
    },
    {
      "cell_type": "code",
      "execution_count": 114,
      "metadata": {
        "id": "v0rNcjnD5FlA"
      },
      "outputs": [],
      "source": [
        "from itertools import product\n",
        "from copy import deepcopy\n",
        "\n",
        "def make_factor(var, bayes_net, evidence):\n",
        "    node = bayes_net[var]\n",
        "    parents = node['parents']\n",
        "    values = node['values']\n",
        "    all_vars = parents + [var]\n",
        "    factor = {'vars': all_vars, 'table': {}}\n",
        "\n",
        "    domains = []\n",
        "    for v in all_vars:\n",
        "        if v in evidence:\n",
        "            domains.append([evidence[v]])\n",
        "        else:\n",
        "            domains.append(bayes_net[v]['values'])\n",
        "\n",
        "    for assignment in product(*domains):\n",
        "        assignment_dict = dict(zip(all_vars, assignment))\n",
        "        if len(parents) == 0:\n",
        "            prob = node['cpt'][assignment_dict[var]]\n",
        "        elif len(parents) == 1:\n",
        "            prob = node['cpt'][assignment_dict[parents[0]]][assignment_dict[var]]\n",
        "        else:\n",
        "            key = tuple(assignment_dict[p] for p in parents)\n",
        "            prob = node['cpt'][key][assignment_dict[var]]\n",
        "        factor['table'][assignment] = prob\n",
        "\n",
        "    return factor\n",
        "\n",
        "def join_factors(f1, f2):\n",
        "    all_vars = list(dict.fromkeys(f1['vars'] + f2['vars']))\n",
        "    table = {}\n",
        "    domains = {}\n",
        "    for var in all_vars:\n",
        "        values = set()\n",
        "        for f in [f1, f2]:\n",
        "            if var in f['vars']:\n",
        "                idx = f['vars'].index(var)\n",
        "                for key in f['table']:\n",
        "                    values.add(key[idx])\n",
        "        domains[var] = list(values)\n",
        "\n",
        "    for assignment in product(*[domains[v] for v in all_vars]):\n",
        "        assign_dict = dict(zip(all_vars, assignment))\n",
        "        key1 = tuple(assign_dict[v] for v in f1['vars'])\n",
        "        key2 = tuple(assign_dict[v] for v in f2['vars'])\n",
        "\n",
        "        if key1 in f1['table'] and key2 in f2['table']:\n",
        "            table[assignment] = f1['table'][key1] * f2['table'][key2]\n",
        "\n",
        "    return {'vars': all_vars, 'table': table}\n",
        "\n",
        "def eliminate(var, factor):\n",
        "    idx = factor['vars'].index(var)\n",
        "    new_vars = factor['vars'][:idx] + factor['vars'][idx+1:]\n",
        "    new_table = {}\n",
        "\n",
        "    for assignment, prob in factor['table'].items():\n",
        "        reduced_key = assignment[:idx] + assignment[idx+1:]\n",
        "        new_table[reduced_key] = new_table.get(reduced_key, 0) + prob\n",
        "\n",
        "    return {'vars': new_vars, 'table': new_table}\n",
        "\n",
        "def normalize(factor):\n",
        "    total = sum(factor['table'].values())\n",
        "    norm_table = {k: v / total for k, v in factor['table'].items()}\n",
        "    return {'vars': factor['vars'], 'table': norm_table}\n",
        "\n",
        "def query_ve(query_var, query_val, evidence, bayes_net):\n",
        "    factors = [make_factor(var, bayes_net, evidence) for var in bayes_net]\n",
        "\n",
        "    hidden_vars = [v for v in bayes_net if v not in evidence and v != query_var]\n",
        "    for var in hidden_vars:\n",
        "        related = [f for f in factors if var in f['vars']]\n",
        "        for f in related:\n",
        "            factors.remove(f)\n",
        "        if related:\n",
        "            joined = related[0]\n",
        "            for f in related[1:]:\n",
        "                joined = join_factors(joined, f)\n",
        "            reduced = eliminate(var, joined)\n",
        "            factors.append(reduced)\n",
        "    result = factors[0]\n",
        "    for f in factors[1:]:\n",
        "        result = join_factors(result, f)\n",
        "    result = normalize(result)\n",
        "    for assignment, prob in result['table'].items():\n",
        "        var_idx = result['vars'].index(query_var)\n",
        "        if assignment[var_idx] == query_val:\n",
        "            return prob\n",
        "\n",
        "    return 0.0"
      ]
    },
    {
      "cell_type": "code",
      "execution_count": 115,
      "metadata": {
        "colab": {
          "base_uri": "https://localhost:8080/"
        },
        "id": "P9DF28NA5Ny-",
        "outputId": "1b4766c8-52b6-45ed-c762-6630411c6003"
      },
      "outputs": [
        {
          "output_type": "stream",
          "name": "stdout",
          "text": [
            "P(S = 'high' | H=True, W=True) = 0.5716\n"
          ]
        }
      ],
      "source": [
        "result_ve = query_ve('S', 'high', {'H': True, 'W': True}, bayes_net)\n",
        "print(f\"P(S = 'high' | H=True, W=True) = {result_ve:.4f}\")"
      ]
    },
    {
      "cell_type": "markdown",
      "metadata": {
        "id": "O_h-CZhx7aFV"
      },
      "source": [
        "\n",
        "## Compare Enumeration vs. Variable Elimination\n",
        "Explain your answer in each question\n",
        "1. Do both methods return the **same probability** for your chosen query and evidence? Why or why not?\n",
        "\n",
        "2. Which method was **faster** in your tests? Provide the execution times.\n",
        "\n",
        "3. Why is **Variable Elimination** usually more efficient than Enumeration, especially for larger networks?\n",
        "\n",
        "4. Can you think of a scenario where Enumeration might be **simpler or more appropriate** to use than VE?\n",
        "\n",
        "5. What would happen to the performance of each method if the number of variables doubled? Try to explain without coding it.\n"
      ]
    },
    {
      "cell_type": "markdown",
      "metadata": {
        "id": "4s6QWnAH9flZ"
      },
      "source": [
        "# Step 4: Approximate Inference with Sampling\n",
        "\n",
        "In this part, you'll implement two approximate inference algorithms:\n",
        "- **Rejection Sampling**\n",
        "- **Likelihood Weighting**\n",
        "\n",
        "These methods generate random samples from the Bayesian Network to estimate conditional probabilities.\n",
        "\n",
        "---\n",
        "\n",
        "##  Rejection Sampling\n",
        "\n",
        "- Sample all variables from the prior distribution.\n",
        "- **Reject** any sample that does not match the evidence.\n",
        "- Among accepted samples, estimate the query probability.\n",
        "\n",
        "\n",
        "---\n",
        "\n",
        "##  Likelihood Weighting\n",
        "\n",
        "- Sample variables in topological order.\n",
        "- For **evidence variables**, **fix** their value and assign a **weight** equal to the likelihood of observing that value.\n",
        "- For non-evidence variables, sample normally.\n",
        "- Compute a weighted average of the query variable.\n",
        "\n",
        "---\n",
        "\n",
        "##  Your Tasks\n",
        "\n",
        "Implement the following:\n",
        "- `rejection_sampling(query_var, query_val, evidence, bayes_net, N)`\n",
        "- `likelihood_weighting(query_var, query_val, evidence, bayes_net, N)`\n"
      ]
    },
    {
      "cell_type": "code",
      "execution_count": 116,
      "metadata": {
        "id": "RYd62E128UHF"
      },
      "outputs": [],
      "source": [
        "import random\n",
        "\n",
        "def rejection_sampling(query_var, query_val, evidence, bayes_net, N=1000):\n",
        "    accepted = 0\n",
        "    match = 0\n",
        "\n",
        "    for _ in range(N):\n",
        "        sample = prior_sample(bayes_net)\n",
        "        if all(sample.get(k) == v for k, v in evidence.items()):\n",
        "            accepted += 1\n",
        "            if sample[query_var] == query_val:\n",
        "                match += 1\n",
        "\n",
        "    return match / accepted if accepted > 0 else 0.0\n",
        "\n",
        "def weighted_sample(bayes_net, evidence):\n",
        "    sample = {}\n",
        "    weight = 1.0\n",
        "\n",
        "    for var in bayes_net:\n",
        "        parents = bayes_net[var]['parents']\n",
        "        if not parents:\n",
        "            prob = bayes_net[var]['cpt']\n",
        "        else:\n",
        "            parent_vals = tuple(sample[p] for p in parents) if len(parents) > 1 else sample[parents[0]]\n",
        "            prob = bayes_net[var]['cpt'][parent_vals]\n",
        "\n",
        "        values = bayes_net[var]['values']\n",
        "        if var in evidence:\n",
        "            weight *= prob[evidence[var]]\n",
        "            sample[var] = evidence[var]\n",
        "        else:\n",
        "            weights = [prob[val] for val in values]\n",
        "            sample[var] = random.choices(values, weights)[0]\n",
        "\n",
        "    return sample, weight\n",
        "\n",
        "def prior_sample(bayes_net):\n",
        "    sample = {}\n",
        "    for var in bayes_net:\n",
        "        parents = bayes_net[var]['parents']\n",
        "        if not parents:\n",
        "            prob = bayes_net[var]['cpt']\n",
        "        else:\n",
        "            parent_vals = tuple(sample[p] for p in parents) if len(parents) > 1 else sample[parents[0]]\n",
        "            prob = bayes_net[var]['cpt'][parent_vals]\n",
        "\n",
        "        values = bayes_net[var]['values']\n",
        "        weights = [prob[val] if isinstance(prob, dict) else prob for val in values]\n",
        "        sample[var] = random.choices(values, weights)[0]\n",
        "    return sample\n",
        "\n",
        "def likelihood_weighting(query_var, query_val, evidence, bayes_net, N=1000):\n",
        "    total_weight = 0.0\n",
        "    match_weight = 0.0\n",
        "\n",
        "    for _ in range(N):\n",
        "        sample, weight = weighted_sample(bayes_net, evidence)\n",
        "        total_weight += weight\n",
        "        if sample[query_var] == query_val:\n",
        "            match_weight += weight\n",
        "\n",
        "    return match_weight / total_weight if total_weight > 0 else 0.0"
      ]
    },
    {
      "cell_type": "code",
      "execution_count": 117,
      "metadata": {
        "colab": {
          "base_uri": "https://localhost:8080/"
        },
        "id": "ngbLDozq8fxC",
        "outputId": "8a74dc4d-cefe-480d-f7a0-ec38a2cc23f5"
      },
      "outputs": [
        {
          "output_type": "stream",
          "name": "stdout",
          "text": [
            "Rejection Sampling:      P(S='high' | H=True, W=True) ≈ 0.5617\n",
            "Likelihood Weighting:    P(S='high' | H=True, W=True) ≈ 0.5740\n"
          ]
        }
      ],
      "source": [
        "evidence = {'H': True, 'W': True}\n",
        "query = ('S', 'high')\n",
        "res_reject = rejection_sampling(*query, evidence, bayes_net, N=10000)\n",
        "res_lw = likelihood_weighting(*query, evidence, bayes_net, N=10000)\n",
        "print(f\"Rejection Sampling:      P(S='high' | H=True, W=True) ≈ {res_reject:.4f}\")\n",
        "print(f\"Likelihood Weighting:    P(S='high' | H=True, W=True) ≈ {res_lw:.4f}\")"
      ]
    },
    {
      "cell_type": "code",
      "execution_count": 118,
      "metadata": {
        "colab": {
          "base_uri": "https://localhost:8080/"
        },
        "id": "v5DTO_VhClpI",
        "outputId": "5d64c0a2-7460-449d-8251-a9265b58acb7"
      },
      "outputs": [
        {
          "output_type": "stream",
          "name": "stdout",
          "text": [
            "🔍 Testing Inference Methods with Various Queries:\n",
            "\n",
            " Query: P(P = True | {'H': True, 'W': True})\n",
            "  ➤ Enumeration:         0.9500\n",
            "  ➤ Variable Elimination:0.9500\n",
            "  ➤ Rejection Sampling:  0.9438\n",
            "  ➤ Likelihood Weighting:0.9472\n",
            "------------------------------------------------------------\n",
            " Query: P(P = True | {'H': False, 'W': False})\n",
            "  ➤ Enumeration:         0.1000\n",
            "  ➤ Variable Elimination:0.1000\n",
            "  ➤ Rejection Sampling:  0.0966\n",
            "  ➤ Likelihood Weighting:0.1032\n",
            "------------------------------------------------------------\n",
            " Query: P(M = True | {'H': True, 'W': True})\n",
            "  ➤ Enumeration:         0.7860\n",
            "  ➤ Variable Elimination:0.7860\n",
            "  ➤ Rejection Sampling:  0.7934\n",
            "  ➤ Likelihood Weighting:0.7894\n",
            "------------------------------------------------------------\n",
            " Query: P(M = False | {'F': False, 'P': False})\n",
            "  ➤ Enumeration:         0.8000\n",
            "  ➤ Variable Elimination:0.8000\n",
            "  ➤ Rejection Sampling:  0.8132\n",
            "  ➤ Likelihood Weighting:0.7986\n",
            "------------------------------------------------------------\n",
            " Query: P(S = high | {'H': True, 'W': True})\n",
            "  ➤ Enumeration:         0.5716\n",
            "  ➤ Variable Elimination:0.5716\n",
            "  ➤ Rejection Sampling:  0.5560\n",
            "  ➤ Likelihood Weighting:0.5704\n",
            "------------------------------------------------------------\n",
            " Query: P(S = low | {'H': False, 'W': False})\n",
            "  ➤ Enumeration:         0.2986\n",
            "  ➤ Variable Elimination:0.2986\n",
            "  ➤ Rejection Sampling:  0.3158\n",
            "  ➤ Likelihood Weighting:0.3044\n",
            "------------------------------------------------------------\n"
          ]
        }
      ],
      "source": [
        "print(\"🔍 Testing Inference Methods with Various Queries:\\n\")\n",
        "queries = [\n",
        "    ('P', True, {'H': True, 'W': True}),\n",
        "    ('P', True, {'H': False, 'W': False}),\n",
        "    ('M', True, {'H': True, 'W': True}),\n",
        "    ('M', False, {'F': False, 'P': False}),\n",
        "    ('S', 'high', {'H': True, 'W': True}),\n",
        "    ('S', 'low', {'H': False, 'W': False}),\n",
        "]\n",
        "for (q_var, q_val, evidence) in queries:\n",
        "    print(f\" Query: P({q_var} = {q_val} | {evidence})\")\n",
        "    res_enum = query_enum(q_var, q_val, evidence, bayes_net)\n",
        "    print(f\"  ➤ Enumeration:         {res_enum:.4f}\")\n",
        "    res_ve = query_ve(q_var, q_val, evidence, bayes_net)\n",
        "    print(f\"  ➤ Variable Elimination:{res_ve:.4f}\")\n",
        "    res_reject = rejection_sampling(q_var, q_val, evidence, bayes_net, N=5000)\n",
        "    print(f\"  ➤ Rejection Sampling:  {res_reject:.4f}\")\n",
        "    res_lw = likelihood_weighting(q_var, q_val, evidence, bayes_net, N=5000)\n",
        "    print(f\"  ➤ Likelihood Weighting:{res_lw:.4f}\")\n",
        "    print(\"-\" * 60)"
      ]
    }
  ],
  "metadata": {
    "colab": {
      "provenance": []
    },
    "kernelspec": {
      "display_name": "Python 3",
      "name": "python3"
    },
    "language_info": {
      "name": "python"
    }
  },
  "nbformat": 4,
  "nbformat_minor": 0
}