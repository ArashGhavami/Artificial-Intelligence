{
  "cells": [
    {
      "cell_type": "markdown",
      "metadata": {
        "id": "UGN05fs7ZBH6"
      },
      "source": [
        "### 📌 **Practical Notebook - AI Problem Solving**\n",
        "#### **Constraint Satisfaction Problems (CSP), Cryptarithmetic Puzzles, and Adversarial Search**\n",
        "Amir Mohammad Mahfozi - Arman Tahmasebi\n",
        "\n",
        "---\n",
        "\n",
        "# <div align=\"center\">\n",
        "# <img src=\"https://cdn.freebiesupply.com/logos/large/2x/sharif-logo-png-transparent.png\" width=150 height=150>\n",
        "# <br>\n",
        "# <font color=0F5298 size=7>\n",
        "# Artificial Intelligence - Practical Assignment\n",
        "# </font>\n",
        "# </div>\n",
        "\n",
        "---\n",
        "\n",
        "## **📝 Student Information**\n",
        "Before starting the assignment, please fill in your details below.\n",
        "\n",
        "- **Name:** Arash Ghavami\n",
        "- **Student ID:** 402106359\n",
        "\n",
        "---\n",
        "\n",
        "## **🏰 The Kingdom Conflict of Eldoria**\n",
        "### **📖 Background Story**\n",
        "The great land of **Eldoria** is composed of multiple **kingdoms**, each ruled by different noble families. Due to historical rivalries and past wars, some kingdoms refuse to be aligned with the same ruling faction.\n",
        "\n",
        "Your task is to ensure diplomatic stability by:\n",
        "1. **Assigning ruling factions (colors) to each kingdom.**\n",
        "2. **Ensuring that neighboring rival kingdoms do not share the same faction.**\n",
        "3. **Minimizing the number of different factions used while ensuring fairness.**\n",
        "\n",
        "This problem is a classic example of a **Constraint Satisfaction Problem (CSP)**, specifically **Graph Coloring**, where:\n",
        "- Each **kingdom** is a **node** in a graph.\n",
        "- Each **rivalry** between two kingdoms is an **edge** connecting two nodes.\n",
        "- Each **ruling faction (color)** is an **assignment** that must follow constraints.\n",
        "\n",
        "---\n",
        "### **🔢 Unlocking the Treasure - Cryptarithmetic Puzzles**\n",
        "After stabilizing Eldoria, you discover an ancient locked **treasure chest** deep within the royal archives.  \n",
        "The lock is encrypted with a **mathematical puzzle**, and only those skilled in **Cryptarithmetic** can solve it.  \n",
        "Your mission: **Decode the puzzle** and open the treasure!\n",
        "\n",
        "---\n",
        "### **🎮 The Hidden Challenge - Adversarial Search in Othello**\n",
        "Inside the chest, you find an ancient **board game** that requires strategic thinking. The game is a **version of Othello**,  \n",
        "and to win, you must design an **intelligent AI agent** using **Adversarial Search techniques** like:\n",
        "- **Minimax Algorithm**\n",
        "- **Alpha-Beta Pruning**\n",
        "- **Expectimax**\n",
        "\n",
        "Your final task: **Train an AI agent to play and win the game!** 🏆\n",
        "\n",
        "---\n",
        "## **🎯 Learning Objectives**\n",
        "By the end of this assignment, you will:\n",
        "✅ Understand how **Constraint Satisfaction Problems (CSPs)** work.  \n",
        "✅ Learn how to solve a **Graph Coloring Problem** using CSP techniques.  \n",
        "✅ Implement **Backtracking Search** to find valid assignments.  \n",
        "✅ Solve **Cryptarithmetic Puzzles** with AI techniques.  \n",
        "✅ Apply **Adversarial Search Algorithms** in strategic decision-making.  \n",
        "\n",
        "---\n",
        "## **📌 Instructions**\n",
        "1. **Read each section carefully** and follow the explanations.\n",
        "2. Parts of the code are **missing** (marked as `TODO`). You need to **fill them in**.\n",
        "3. **Run each code cell** after implementing the missing parts.\n",
        "4. Answer the **questions** provided in some sections.\n",
        "\n",
        "Let's begin! 🎯\n"
      ]
    },
    {
      "cell_type": "markdown",
      "metadata": {
        "id": "VOKTb9P9ZYXw"
      },
      "source": [
        "## **Problem Statement: Graph Coloring CSP**\n",
        "Eldoria is represented as an **undirected graph**, where:\n",
        "- **Each kingdom is a node**.\n",
        "- **Each edge signifies a historical conflict** between two kingdoms that refuse to be ruled by the same faction.\n",
        "- **Your goal is to assign each kingdom a faction (color) while ensuring no two neighboring kingdoms share the same faction.**"
      ]
    },
    {
      "cell_type": "markdown",
      "metadata": {
        "id": "fQtibkggZlFi"
      },
      "source": [
        "### **Input Format:**\n",
        "- The first line contains an integer $N$ representing the number of **kingdoms**.\n",
        "- The second line contains an integer $M$ indicating the number of **available factions (colors)**.\n",
        "- The next $E$ lines each contain two integers $u$ and $v$, representing a conflict between kingdoms $u$ and $v$.\n"
      ]
    },
    {
      "cell_type": "markdown",
      "metadata": {
        "id": "n8rQJ2GrZzvl"
      },
      "source": [
        "#### **Example Input:**\n",
        "```\n",
        "5\n",
        "3\n",
        "0 1\n",
        "0 2\n",
        "1 3\n",
        "1 4\n",
        "3 4\n",
        "```\n",
        "\n",
        "### **Output Format:**\n",
        "- A list where each index represents a kingdom, and the value at that index represents its assigned faction (color).\n"
      ]
    },
    {
      "cell_type": "markdown",
      "metadata": {
        "id": "qdrB-y95aOzG"
      },
      "source": [
        "### **Your Task:**\n",
        "- Implement the **AC-3 Algorithm** for constraint propagation.\n",
        "- Use **Minimum Remaining Values (MRV)** and **Least Constraining Value (LCV)** heuristics to optimize the solution.\n",
        "- Apply **Backtracking Search** to find a valid ruling assignment."
      ]
    },
    {
      "cell_type": "markdown",
      "metadata": {
        "id": "uwiX4631aV75"
      },
      "source": [
        "### **Implementation**\n",
        "\n",
        "#### **Step 1: Load Libraries**"
      ]
    },
    {
      "cell_type": "code",
      "execution_count": 1,
      "metadata": {
        "id": "3XsJ-nk9Y-Xk"
      },
      "outputs": [],
      "source": [
        "import numpy as np\n",
        "import matplotlib.pyplot as plt\n",
        "import networkx as nx\n",
        "import copy\n",
        "from collections import deque\n",
        "from google.colab import files\n",
        "import signal\n",
        "import math\n",
        "\n",
        "\n",
        "np.random.seed(42)"
      ]
    },
    {
      "cell_type": "markdown",
      "metadata": {
        "id": "qlePu8urac6t"
      },
      "source": [
        "#### **Step 2: Define the Kingdom Conflict Graph**\n",
        "The function should read from a file.\n",
        "Store conflict information in a dictionary.\n",
        "Initialize each kingdom's faction choices."
      ]
    },
    {
      "cell_type": "code",
      "execution_count": 2,
      "metadata": {
        "id": "eBBah8fIamop"
      },
      "outputs": [],
      "source": [
        "conflicts = {}\n",
        "factions = {}\n",
        "\n",
        "def load_kingdom_data(file_path):\n",
        "    conflicts.clear()\n",
        "    factions.clear()\n",
        "    with open(file_path, 'r') as f:\n",
        "        data = f.readlines()\n",
        "\n",
        "    global num_kingdoms, num_factions\n",
        "    num_kingdoms = int(data[0].strip())\n",
        "    num_factions = int(data[1].strip())\n",
        "\n",
        "    for i in range(num_kingdoms):\n",
        "        conflicts[i] = []\n",
        "        factions[i] = list(range(num_factions))\n",
        "\n",
        "    for line in data[2:]:\n",
        "        u, v = map(int, line.strip().split())\n",
        "        conflicts[u].append(v)\n",
        "        conflicts[v].append(u)"
      ]
    },
    {
      "cell_type": "markdown",
      "metadata": {
        "id": "8bG6DICAbWeH"
      },
      "source": [
        "#### **Step 3: Implement AC-3 Algorithm**\n",
        "AC-3 (Arc Consistency 3) is used to reduce the domain of choices for each kingdom before backtracking.\n",
        "\n",
        "📝 TODO: Implement the revise() function\n",
        "This function should remove invalid faction choices for a kingdom.\n",
        "It ensures that neighboring kingdoms do not get the same faction."
      ]
    },
    {
      "cell_type": "code",
      "execution_count": 3,
      "metadata": {
        "id": "lIbpH4LSbVJf"
      },
      "outputs": [],
      "source": [
        "def revise(x, y):\n",
        "    revised = False\n",
        "    for c in factions[x]:\n",
        "        if all(c == c2 for c2 in factions[y]):\n",
        "            factions[x].remove(c)\n",
        "            revised = True\n",
        "    return revised\n",
        "\n",
        "def ac3(variables):\n",
        "    queue = []\n",
        "    for var in variables:\n",
        "      for var1 in conflicts[var]:\n",
        "        queue.append((var, var1))\n",
        "        queue.append((var1, var))\n",
        "\n",
        "    my_deque = deque(queue)\n",
        "    while my_deque:\n",
        "      condition = my_deque.popleft()\n",
        "      if revise(condition[0], condition[1]):\n",
        "        for var in conflicts[condition[0]]:\n",
        "          if var != condition[1]:\n",
        "            my_deque.append((var, condition[0]))\n",
        "    queue = list(my_deque)\n",
        "    for var in variables:\n",
        "      if len(factions[var]) == 0:\n",
        "        return False\n",
        "    return True"
      ]
    },
    {
      "cell_type": "markdown",
      "metadata": {
        "id": "FCOqctOxbpTW"
      },
      "source": [
        "#### **Step 4: Implement Heuristics - MRV & LCV**\n",
        "MRV (Minimum Remaining Values) selects the most constrained variable first.\n",
        "LCV (Least Constraining Value) picks values that minimize conflicts."
      ]
    },
    {
      "cell_type": "code",
      "execution_count": 4,
      "metadata": {
        "id": "FzsC-IVGbqgr"
      },
      "outputs": [],
      "source": [
        "def select_unassigned_variable():\n",
        "    min_value = 100000000000\n",
        "    node = 0\n",
        "    best_faction = []\n",
        "    for c in factions:\n",
        "      if (len(factions[c]) <= min_value) and (len(factions[c]) !=1):\n",
        "        min_value = len(factions[c])\n",
        "        node = c\n",
        "        best_faction = factions[c]\n",
        "    return node\n",
        "\n",
        "def optimality_for_value(value, var):\n",
        "      num = 0\n",
        "      for node in conflicts[var]:\n",
        "        for color in factions[node]:\n",
        "          if color == value:\n",
        "            num = num+1\n",
        "            break\n",
        "      return num\n",
        "\n",
        "\n",
        "def order_domain_values(var):\n",
        "    all_values = []\n",
        "    for t in factions[var]:\n",
        "      all_values.append(t)\n",
        "    for i in range(len(all_values)):\n",
        "      for j in range(i, len(all_values)):\n",
        "        if optimality_for_value(all_values[i], var) > optimality_for_value(all_values[j], var):\n",
        "          all_values[i], all_values[j ]= all_values[j], all_values[i]\n",
        "    return all_values\n"
      ]
    },
    {
      "cell_type": "markdown",
      "metadata": {
        "id": "8cGSN5KqbufH"
      },
      "source": [
        "#### **Step 5: Implement Backtracking Search**\n",
        "Try assigning a faction to a kingdom.\n",
        "Use AC-3 to reduce domains.\n",
        "Revert changes if a failure occurs (backtracking)."
      ]
    },
    {
      "cell_type": "code",
      "execution_count": 5,
      "metadata": {
        "id": "EBWB15jrbw9L"
      },
      "outputs": [],
      "source": [
        "def backtrack():\n",
        "    if all(len(factions[v]) == 1 for v in factions):\n",
        "        return {v: factions[v][0] for v in factions}\n",
        "    var = select_unassigned_variable()\n",
        "    print(var)\n",
        "    for value in order_domain_values(var):\n",
        "        temp_factions = copy.deepcopy(factions)\n",
        "        factions[var] = [value]\n",
        "        factions_copy = copy.deepcopy(factions)\n",
        "        if ac3(factions):\n",
        "            factions.update(factions_copy)\n",
        "            result = backtrack()\n",
        "            if result:\n",
        "                return result\n",
        "        factions.update(temp_factions)\n",
        "    return None\n"
      ]
    },
    {
      "cell_type": "markdown",
      "metadata": {
        "id": "QqFuddFSb8gg"
      },
      "source": [
        "#### **Step 6: Validate and Test the Implementation**"
      ]
    },
    {
      "cell_type": "code",
      "execution_count": 7,
      "metadata": {
        "colab": {
          "base_uri": "https://localhost:8080/"
        },
        "id": "nrQ-b8x8b9rh",
        "outputId": "e00149e7-828a-4f0f-989b-916c3c7dbc79"
      },
      "outputs": [
        {
          "output_type": "stream",
          "name": "stdout",
          "text": [
            "4\n",
            "3\n",
            "2\n",
            "1\n",
            "0\n",
            "Kingdom Assignments: {0: 1, 1: 2, 2: 0, 3: 1, 4: 0}\n"
          ]
        }
      ],
      "source": [
        "# uploaded = files.upload()\n",
        "load_kingdom_data('input0.txt')\n",
        "solution = backtrack()\n",
        "print(\"Kingdom Assignments:\", solution)"
      ]
    },
    {
      "cell_type": "markdown",
      "metadata": {
        "id": "7HW3kDuKcOJL"
      },
      "source": [
        "#### **Step 7: Visualize the Solution**"
      ]
    },
    {
      "cell_type": "code",
      "execution_count": 8,
      "metadata": {
        "colab": {
          "base_uri": "https://localhost:8080/",
          "height": 636
        },
        "id": "YQbxD-HBcM0f",
        "outputId": "07aed4a1-b069-4f6a-e066-2d25943ef806"
      },
      "outputs": [
        {
          "output_type": "display_data",
          "data": {
            "text/plain": [
              "<Figure size 800x600 with 1 Axes>"
            ],
            "image/png": "[encoded data removed]"
          },
          "metadata": {}
        }
      ],
      "source": [
        "def plot_kingdoms():\n",
        "    G = nx.Graph()\n",
        "    for kingdom, neighbors_list in conflicts.items():\n",
        "        for neighbor in neighbors_list:\n",
        "            G.add_edge(kingdom, neighbor)\n",
        "\n",
        "    pos = nx.spring_layout(G)\n",
        "    factions_map = [solution[node] for node in G.nodes()]\n",
        "\n",
        "    plt.figure(figsize=(8, 6))\n",
        "    nx.draw(G, pos, with_labels=True, node_color=factions_map, cmap=plt.cm.Set1, edge_color='gray', node_size=500)\n",
        "    plt.show()\n",
        "\n",
        "plot_kingdoms()"
      ]
    },
    {
      "cell_type": "code",
      "execution_count": 10,
      "metadata": {
        "id": "uEEXOL_sdL2b",
        "colab": {
          "base_uri": "https://localhost:8080/",
          "height": 1000
        },
        "outputId": "cc2a6fe5-ed3c-4539-b7ae-a65b51b517f8"
      },
      "outputs": [
        {
          "output_type": "stream",
          "name": "stdout",
          "text": [
            "39\n",
            "38\n",
            "37\n",
            "36\n",
            "35\n",
            "34\n",
            "33\n",
            "32\n",
            "31\n",
            "30\n",
            "29\n",
            "28\n",
            "27\n",
            "26\n",
            "25\n",
            "24\n",
            "23\n",
            "22\n",
            "21\n",
            "20\n",
            "19\n",
            "18\n",
            "17\n",
            "16\n",
            "15\n",
            "14\n",
            "13\n",
            "12\n",
            "11\n",
            "10\n",
            "9\n",
            "8\n",
            "7\n",
            "6\n",
            "5\n",
            "4\n",
            "3\n",
            "2\n",
            "1\n",
            "0\n",
            "Kingdom Assignments: {0: 0, 1: 0, 2: 1, 3: 2, 4: 2, 5: 3, 6: 1, 7: 3, 8: 2, 9: 3, 10: 1, 11: 3, 12: 2, 13: 3, 14: 1, 15: 3, 16: 2, 17: 2, 18: 1, 19: 1, 20: 1, 21: 0, 22: 0, 23: 0, 24: 0, 25: 0, 26: 0, 27: 0, 28: 0, 29: 0, 30: 0, 31: 0, 32: 0, 33: 0, 34: 0, 35: 0, 36: 0, 37: 0, 38: 0, 39: 0}\n"
          ]
        },
        {
          "output_type": "display_data",
          "data": {
            "text/plain": [
              "<Figure size 800x600 with 1 Axes>"
            ],
            "image/png": "[encoded data removed]"
          },
          "metadata": {}
        }
      ],
      "source": [
        "# uploaded = files.upload()\n",
        "load_kingdom_data('map.txt')\n",
        "solution = backtrack()\n",
        "print(\"Kingdom Assignments:\", solution)\n",
        "plot_kingdoms()"
      ]
    },
    {
      "cell_type": "markdown",
      "metadata": {
        "id": "vS4NkwdJiddk"
      },
      "source": [
        "## **Part 2: Unlocking the Treasure (Cryptarithmetic Puzzle CSP)**\n",
        "### **Background:**\n",
        "After successfully stabilizing the kingdom, the great vault of Eldoria's lost treasure has been discovered. However, it is **locked with an ancient code** that must be deciphered using a **cryptarithmetic puzzle**. Your task is to crack the code and unlock the treasure!\n",
        "\n",
        "---\n",
        "\n",
        "### **Problem Statement: Cryptarithmetic Puzzle**\n",
        "The treasure chest is locked using a numerical puzzle where **letters represent unique digits (0-9)**. You must assign each letter a unique digit such that the given arithmetic equation holds.\n",
        "\n",
        "#### **Example Puzzle:**\n",
        "```\n",
        "  GOLD\n",
        "+ COIN\n",
        "------\n",
        "  CHEST\n",
        "```\n",
        "Each letter corresponds to a distinct digit, and the equation must be mathematically valid.\n",
        "\n",
        "### **Constraints:**\n",
        "- Each **letter represents a unique digit** (0-9).\n",
        "- No two letters can have the **same digit**.\n",
        "- The sum must be mathematically correct.\n",
        "- No leading zeros.\n",
        "\n",
        "---\n",
        "\n",
        "### **Your Task:**\n",
        "- Implement **Backtracking Search** to assign digits to letters.\n",
        "- Use **Minimum Remaining Values (MRV)** and **Least Constraining Value (LCV)** heuristics to optimize the solution.\n",
        "- Ensure the final assignment satisfies all constraints.\n",
        "\n",
        "---\n",
        "\n",
        "### **Implementation**\n",
        "\n",
        "#### **Step 1: Define the Cryptarithmetic Puzzle**\n",
        "We need a function to convert a word into a number based on a given letter-digit mapping.\n",
        "\n",
        "📝 TODO: Implement word_to_number()\n",
        "Convert a word into a number using the given mapping.\n",
        "Example: If mapping = {'S': 9, 'E': 5, 'N': 6, 'D': 7},\n",
        "then \"SEND\" should convert to 9567."
      ]
    },
    {
      "cell_type": "code",
      "execution_count": 11,
      "metadata": {
        "id": "ngyUdvjniuaA"
      },
      "outputs": [],
      "source": [
        "import itertools\n",
        "\n",
        "def word_to_number(word, mapping):\n",
        "    k = 1\n",
        "    result = 0\n",
        "    reverse = word[::-1]\n",
        "    for char in reverse:\n",
        "      result += mapping[char] * k\n",
        "      k *= 10\n",
        "    return result\n",
        "\n",
        "def is_valid_solution(mapping, words, result):\n",
        "    num1 = word_to_number(words[0], mapping)\n",
        "    num2 = word_to_number(words[1], mapping)\n",
        "    num3 = word_to_number(result, mapping)\n",
        "    return num1 + num2 == num3\n"
      ]
    },
    {
      "cell_type": "markdown",
      "metadata": {
        "id": "B2Wgy1ZzizXL"
      },
      "source": [
        "#### **Step 2: Solve Using Backtracking**\n",
        "Identify all unique letters.\n",
        "Generate all possible digit permutations for these letters.\n",
        "Check each assignment to find a valid solution."
      ]
    },
    {
      "cell_type": "code",
      "execution_count": 13,
      "metadata": {
        "id": "6VqqCV85iyQG"
      },
      "outputs": [],
      "source": [
        "def solve_cryptarithmetic(words, result):\n",
        "    letters = set(\"\".join(words) + result)\n",
        "    assert len(letters) <= 10\n",
        "\n",
        "    for perm in itertools.permutations(range(10), len(letters)):\n",
        "        mapping = dict(zip(letters, perm))\n",
        "\n",
        "        if mapping[words[0][0]] == 0 or mapping[words[1][0]] == 0:\n",
        "          continue\n",
        "\n",
        "        if is_valid_solution(mapping, words, result):\n",
        "            return mapping\n",
        "\n",
        "    return None\n"
      ]
    },
    {
      "cell_type": "markdown",
      "metadata": {
        "id": "Ji9sJBA2i2G-"
      },
      "source": [
        "#### **Step 3: Run and Display the Solution**"
      ]
    },
    {
      "cell_type": "code",
      "execution_count": 14,
      "metadata": {
        "id": "HfyIZg_1i7mR",
        "colab": {
          "base_uri": "https://localhost:8080/"
        },
        "outputId": "06ce56b2-3172-4803-b2f3-f9273d659337"
      },
      "outputs": [
        {
          "output_type": "stream",
          "name": "stdout",
          "text": [
            "Solution: {'R': 8, 'E': 5, 'S': 9, 'O': 0, 'N': 6, 'M': 1, 'Y': 2, 'D': 7}\n"
          ]
        }
      ],
      "source": [
        "words = [\"SEND\", \"MORE\"]\n",
        "result = \"MONEY\"\n",
        "solution = solve_cryptarithmetic(words, result)\n",
        "print(\"Solution:\", solution if solution else \"No solution found\")"
      ]
    },
    {
      "cell_type": "markdown",
      "metadata": {
        "id": "GcIBYSzpng8X"
      },
      "source": [
        "The Final Lock – Unlocking the Treasure Chest\n",
        "After solving the kingdom conflict puzzle, you finally reach the hidden treasure chest deep inside the ruins of Eldoria. The chest is ancient, covered in golden engravings, and protected by a mystical numerical lock.\n",
        "\n",
        "As you examine the lock, you notice an inscription:\n",
        "\n",
        "\"Only the sacred word shall reveal the wealth within. Transform the letters into digits, and the treasure shall be yours!\"\n",
        "\n",
        "You recall the ancient texts that spoke of \"SERMON\", a word of wisdom and power. But the lock requires a six-digit code that matches the letters in the word SERMON.\n",
        "\n",
        "The final numeric code is:\n",
        "958106"
      ]
    },
    {
      "cell_type": "markdown",
      "metadata": {
        "id": "vpNCGWa6XM_p"
      },
      "source": [
        "# 📌 **Adversarial Search - Othello AI**\n",
        "### **Background**\n",
        "After unlocking the treasure, you find an **ancient AI-driven board game** known as **Othello**!  \n",
        "The grandmasters of Eldoria challenge you to **build an AI agent** that can **compete against them**.  \n",
        "\n",
        "Your mission:  \n",
        "✔ Implement **Minimax**, **Alpha-Beta Pruning**, and **Expectimax** to make your AI **unbeatable**.  \n",
        "✔ Ensure **the AI follows the rules of Othello** and plays optimally.  \n",
        "\n",
        "---\n",
        "\n",
        "## **🛠️ Game Rules**\n",
        "1. Players take turns placing pieces on an **8x8 board**.\n",
        "2. A move is valid if it **captures at least one opponent piece**.\n",
        "3. Captured pieces are **flipped** to the current player’s color.\n",
        "4. The game **ends when both players have no valid moves**.\n",
        "5. The player with the **most pieces on the board wins**.\n",
        "\n",
        "---\n",
        "\n",
        "## **🎯 Your Task**\n",
        "- Implement a **valid move function**.\n",
        "- Implement **Minimax, Alpha-Beta Pruning, and Expectimax** agents.\n",
        "- Make the AI play **against itself**.\n",
        "\n",
        "---\n",
        "\n",
        "## **Step 1: Load Required Libraries**\n",
        "Below is the game logic there is no need to change anything."
      ]
    },
    {
      "cell_type": "code",
      "execution_count": 15,
      "metadata": {
        "id": "du002-rIXM_p",
        "outputId": "47a59b9d-d3d4-4e0c-eec6-11c9cd7957a5",
        "colab": {
          "base_uri": "https://localhost:8080/"
        }
      },
      "outputs": [
        {
          "output_type": "stream",
          "name": "stdout",
          "text": [
            "pygame 2.6.1 (SDL 2.28.4, Python 3.11.11)\n",
            "Hello from the pygame community. https://www.pygame.org/contribute.html\n"
          ]
        }
      ],
      "source": [
        "import pygame\n",
        "\n",
        "WIDTH, HEIGHT = 600, 600\n",
        "GRID_SIZE = 8\n",
        "CELL_SIZE = WIDTH // GRID_SIZE\n",
        "WHITE = (255, 255, 255)\n",
        "BLACK = (0, 0, 0)\n",
        "GREEN = (34, 139, 34)\n",
        "GRAY = (200, 200, 200)\n",
        "\n",
        "class Othello:\n",
        "    def __init__(self):\n",
        "        self.board = [[' ' for _ in range(GRID_SIZE)] for _ in range(GRID_SIZE)]\n",
        "        self.board[3][3] = self.board[4][4] = 'W'\n",
        "        self.board[3][4] = self.board[4][3] = 'B'\n",
        "        self.current_player = 'B'\n",
        "        self.turn_count = 1\n",
        "\n",
        "    def is_valid_move(self, row, col):\n",
        "        if self.board[row][col] != ' ':\n",
        "            return False\n",
        "        directions = [(-1, -1), (-1, 0), (-1, 1), (0, -1), (0, 1), (1, -1), (1, 0), (1, 1)]\n",
        "        opponent = 'B' if self.current_player == 'W' else 'W'\n",
        "\n",
        "        for dr, dc in directions:\n",
        "            r, c = row + dr, col + dc\n",
        "            found_opponent = False\n",
        "            while 0 <= r < GRID_SIZE and 0 <= c < GRID_SIZE and self.board[r][c] == opponent:\n",
        "                r += dr\n",
        "                c += dc\n",
        "                found_opponent = True\n",
        "            if found_opponent and 0 <= r < GRID_SIZE and 0 <= c < GRID_SIZE and self.board[r][c] == self.current_player:\n",
        "                return True\n",
        "        return False\n",
        "\n",
        "    def get_valid_moves(self):\n",
        "        return [(r, c) for r in range(GRID_SIZE) for c in range(GRID_SIZE) if self.is_valid_move(r, c)]\n",
        "\n",
        "    def make_move(self, row, col):\n",
        "        if not self.is_valid_move(row, col):\n",
        "            return False\n",
        "\n",
        "        self.board[row][col] = self.current_player\n",
        "        directions = [(-1, -1), (-1, 0), (-1, 1), (0, -1), (0, 1), (1, -1), (1, 0), (1, 1)]\n",
        "        opponent = 'B' if self.current_player == 'W' else 'W'\n",
        "\n",
        "        for dr, dc in directions:\n",
        "            r, c = row + dr, col + dc\n",
        "            captured = []\n",
        "            while 0 <= r < GRID_SIZE and 0 <= c < GRID_SIZE and self.board[r][c] == opponent:\n",
        "                captured.append((r, c))\n",
        "                r += dr\n",
        "                c += dc\n",
        "            if captured and 0 <= r < GRID_SIZE and 0 <= c < GRID_SIZE and self.board[r][c] == self.current_player:\n",
        "                for cr, cc in captured:\n",
        "                    self.board[cr][cc] = self.current_player\n",
        "\n",
        "        self.current_player = 'B' if self.current_player == 'W' else 'W'\n",
        "        self.turn_count += 1\n",
        "        return True\n",
        "\n",
        "    def game_over(self):\n",
        "        current_moves = self.get_valid_moves()\n",
        "\n",
        "        self.current_player = 'B' if self.current_player == 'W' else 'W'\n",
        "        opponent_moves = self.get_valid_moves()\n",
        "\n",
        "        self.current_player = 'B' if self.current_player == 'W' else 'W'\n",
        "\n",
        "        return len(current_moves) == 0 and len(opponent_moves) == 0\n",
        "\n",
        "\n",
        "    def get_winner(self):\n",
        "        black_count = sum(row.count('B') for row in self.board)\n",
        "        white_count = sum(row.count('W') for row in self.board)\n",
        "        if black_count > white_count:\n",
        "            return \"Black Wins!\"\n",
        "        elif white_count > black_count:\n",
        "            return \"White Wins!\"\n",
        "        else:\n",
        "            return \"It's a Draw!\"\n"
      ]
    },
    {
      "cell_type": "markdown",
      "metadata": {
        "id": "IcT1PtyIXM_p"
      },
      "source": [
        "## **Step 2: Implement AI Agents**\n",
        "TODO: Implement Minimax Agent\n",
        "Minimax recursively chooses the best move by:\n",
        "\n",
        "Maximizing its own advantage.\n",
        "Minimizing the opponent's advantage.\n",
        "Exploring a tree of possible game states."
      ]
    },
    {
      "cell_type": "code",
      "execution_count": 16,
      "metadata": {
        "id": "sBi4e1g5XM_p"
      },
      "outputs": [],
      "source": [
        "class MinimaxAgent:\n",
        "    def __init__(self, depth):\n",
        "        self.depth = depth\n",
        "\n",
        "    def get_move(self, game):\n",
        "        best_move = None\n",
        "        best_value = -math.inf\n",
        "        valid_moves = game.get_valid_moves()\n",
        "\n",
        "        for move in valid_moves:\n",
        "            game_copy = copy.deepcopy(game)\n",
        "            game_copy.make_move(move[0], move[1])\n",
        "            value = self.minimax(game_copy, self.depth - 1, False)\n",
        "\n",
        "            if value > best_value:\n",
        "                best_value = value\n",
        "                best_move = move\n",
        "\n",
        "        return best_move\n",
        "\n",
        "    def minimax(self, game, depth, maximizing_player):\n",
        "        if depth == 0 or game.game_over():\n",
        "            return self.evaluate_board(game)\n",
        "\n",
        "        valid_moves = game.get_valid_moves()\n",
        "\n",
        "        if maximizing_player:\n",
        "            max_value = -math.inf\n",
        "            for move in valid_moves:\n",
        "                game_copy = copy.deepcopy(game)\n",
        "                game_copy.make_move(move[0], move[1])\n",
        "                value = self.minimax(game_copy, depth - 1, False)\n",
        "                max_value = max(max_value, value)\n",
        "            return max_value\n",
        "        else:\n",
        "            min_value = math.inf\n",
        "            for move in valid_moves:\n",
        "                game_copy = copy.deepcopy(game)\n",
        "                game_copy.make_move(move[0], move[1])\n",
        "                value = self.minimax(game_copy, depth - 1, True)\n",
        "                min_value = min(min_value, value)\n",
        "            return min_value\n",
        "\n",
        "    def evaluate_board(self, game):\n",
        "        ai_piece = 'B'\n",
        "        opponent_piece = 'W'\n",
        "        score = 0\n",
        "        score += sum(row.count(ai_piece) for row in game.board) * 1\n",
        "        score -= sum(row.count(opponent_piece) for row in game.board) * 1\n",
        "        corners = [(0, 0), (0, 7), (7, 0), (7, 7)]\n",
        "        for r, c in corners:\n",
        "            if game.board[r][c] == ai_piece:\n",
        "                score += 15\n",
        "            elif game.board[r][c] == opponent_piece:\n",
        "                score -= 15\n",
        "\n",
        "        return score"
      ]
    },
    {
      "cell_type": "markdown",
      "metadata": {
        "id": "RkFXk6L7XM_p"
      },
      "source": [
        "📝 TODO: Implement Alpha-Beta Pruning\n",
        "Alpha-Beta Pruning optimizes Minimax by eliminating unnecessary branches."
      ]
    },
    {
      "cell_type": "code",
      "execution_count": 17,
      "metadata": {
        "id": "XYqhZBK_XM_p"
      },
      "outputs": [],
      "source": [
        "class AlphaBetaAgent:\n",
        "    def __init__(self, depth):\n",
        "        self.depth = depth\n",
        "\n",
        "    def get_move(self, game):\n",
        "        best_move = None\n",
        "        best_value = -math.inf\n",
        "        alpha = -math.inf\n",
        "        beta = math.inf\n",
        "        valid_moves = game.get_valid_moves()\n",
        "\n",
        "        for move in valid_moves:\n",
        "            game_copy = copy.deepcopy(game)\n",
        "            game_copy.make_move(move[0], move[1])\n",
        "            value = self.alpha_beta(game_copy, self.depth - 1, alpha, beta, False)\n",
        "\n",
        "            if value > best_value:\n",
        "                best_value = value\n",
        "                best_move = move\n",
        "\n",
        "            alpha = max(alpha, best_value)\n",
        "            if beta <= alpha:\n",
        "                break\n",
        "\n",
        "        return best_move\n",
        "\n",
        "    def alpha_beta(self, game, depth, alpha, beta, maximizing_player):\n",
        "        if depth == 0 or game.game_over():\n",
        "            return self.evaluate_board(game)\n",
        "\n",
        "        valid_moves = game.get_valid_moves()\n",
        "\n",
        "        if maximizing_player:\n",
        "            value = -math.inf\n",
        "            for move in valid_moves:\n",
        "                game_copy = copy.deepcopy(game)\n",
        "                game_copy.make_move(move[0], move[1])\n",
        "                value = max(value, self.alpha_beta(game_copy, depth - 1, alpha, beta, False))\n",
        "                alpha = max(alpha, value)\n",
        "                if beta <= alpha:\n",
        "                    break\n",
        "            return value\n",
        "        else:\n",
        "            value = math.inf\n",
        "            for move in valid_moves:\n",
        "                game_copy = copy.deepcopy(game)\n",
        "                game_copy.make_move(move[0], move[1])\n",
        "                value = min(value, self.alpha_beta(game_copy, depth - 1, alpha, beta, True))\n",
        "                beta = min(beta, value)\n",
        "                if beta <= alpha:\n",
        "                    break\n",
        "            return value\n",
        "\n",
        "    def evaluate_board(self, game):\n",
        "        ai_piece = 'B'\n",
        "        opponent_piece = 'W'\n",
        "        score = 0\n",
        "\n",
        "        score += sum(row.count(ai_piece) for row in game.board)\n",
        "        score -= sum(row.count(opponent_piece) for row in game.board)\n",
        "\n",
        "        corners = [(0, 0), (0, 7), (7, 0), (7, 7)]\n",
        "        for r, c in corners:\n",
        "            if game.board[r][c] == ai_piece:\n",
        "                score += 20\n",
        "            elif game.board[r][c] == opponent_piece:\n",
        "                score -= 20\n",
        "\n",
        "        edges = [(0, i) for i in range(8)] + [(7, i) for i in range(8)] + \\\n",
        "                [(i, 0) for i in range(8)] + [(i, 7) for i in range(8)]\n",
        "        for r, c in edges:\n",
        "            if game.board[r][c] == ai_piece:\n",
        "                score += 5\n",
        "            elif game.board[r][c] == opponent_piece:\n",
        "                score -= 5\n",
        "\n",
        "        return score"
      ]
    },
    {
      "cell_type": "markdown",
      "metadata": {
        "id": "zALggfDYXM_q"
      },
      "source": [
        "📝 TODO: Implement Expectimax Agent\n",
        "Expectimax is used when the opponent’s move is not optimal and follows a probabilistic strategy."
      ]
    },
    {
      "cell_type": "code",
      "execution_count": 18,
      "metadata": {
        "id": "fA5Ht0bnXM_q"
      },
      "outputs": [],
      "source": [
        "import copy\n",
        "import math\n",
        "import random\n",
        "\n",
        "class ExpectimaxAgent:\n",
        "    def __init__(self, depth):\n",
        "        self.depth = depth\n",
        "\n",
        "    def get_move(self, game):\n",
        "        best_move = None\n",
        "        best_value = -math.inf\n",
        "        valid_moves = game.get_valid_moves()\n",
        "\n",
        "        for move in valid_moves:\n",
        "            game_copy = copy.deepcopy(game)\n",
        "            game_copy.make_move(move[0], move[1])\n",
        "            value = self.expectimax(game_copy, self.depth - 1, False)\n",
        "\n",
        "            if value > best_value or (value == best_value and random.random() < 0.3):\n",
        "                best_value = value\n",
        "                best_move = move\n",
        "\n",
        "        return best_move\n",
        "\n",
        "    def expectimax(self, game, depth, maximizing_player):\n",
        "        if depth == 0 or game.game_over():\n",
        "            return self.evaluate_board(game)\n",
        "\n",
        "        valid_moves = game.get_valid_moves()\n",
        "\n",
        "        if maximizing_player:\n",
        "            value = -math.inf\n",
        "            for move in valid_moves:\n",
        "                game_copy = copy.deepcopy(game)\n",
        "                game_copy.make_move(move[0], move[1])\n",
        "                value = max(value, self.expectimax(game_copy, depth - 1, False))\n",
        "            return value\n",
        "        else:\n",
        "            total_value = 0\n",
        "            for move in valid_moves:\n",
        "                game_copy = copy.deepcopy(game)\n",
        "                game_copy.make_move(move[0], move[1])\n",
        "                probability = 1.0 / len(valid_moves)\n",
        "                total_value += probability * self.expectimax(game_copy, depth - 1, True)\n",
        "            return total_value\n",
        "\n",
        "    def evaluate_board(self, game):\n",
        "        ai_piece = 'B'\n",
        "        opponent_piece = 'W'\n",
        "        score = 0\n",
        "        score += sum(row.count(ai_piece) for row in game.board) * 1\n",
        "        score -= sum(row.count(opponent_piece) for row in game.board) * 1\n",
        "\n",
        "        corners = [(0, 0), (0, 7), (7, 0), (7, 7)]\n",
        "        for r, c in corners:\n",
        "            if game.board[r][c] == ai_piece:\n",
        "                score += 25\n",
        "            elif game.board[r][c] == opponent_piece:\n",
        "                score -= 25\n",
        "        edges = []\n",
        "        for i in range(8):\n",
        "            edges.extend([(0, i), (7, i), (i, 0), (i, 7)])\n",
        "        edges = list(set(edges))\n",
        "        for r, c in edges:\n",
        "            if game.board[r][c] == ai_piece:\n",
        "                score += 5\n",
        "            elif game.board[r][c] == opponent_piece:\n",
        "                score -= 5\n",
        "        current_player_moves = len(game.get_valid_moves())\n",
        "        game.current_player = 'W' if game.current_player == 'B' else 'B'\n",
        "        opponent_moves = len(game.get_valid_moves())\n",
        "        game.current_player = 'W' if game.current_player == 'B' else 'B'\n",
        "        score += (current_player_moves - opponent_moves) * 2\n",
        "\n",
        "        return score"
      ]
    },
    {
      "cell_type": "markdown",
      "metadata": {
        "id": "7Vb0xwnGXM_q"
      },
      "source": [
        "You can use the code below to initiate an agent and play with yourself"
      ]
    },
    {
      "cell_type": "code",
      "execution_count": null,
      "metadata": {
        "id": "Fu2FW_mnXM_q"
      },
      "outputs": [],
      "source": [
        "import pygame\n",
        "\n",
        "pygame.init()\n",
        "screen = pygame.display.set_mode((600, 600))\n",
        "pygame.display.set_caption(\"Othello Game\")\n",
        "game = Othello()\n",
        "\n",
        "# agent = MinimaxAgent(depth=4)\n",
        "agent = AlphaBetaAgent(depth=6)  # Using Alpha-Beta Pruning\n",
        "# agent = ExpectimaxAgent(depth=4)\n",
        "\n",
        "def draw_board(screen, game):\n",
        "    screen.fill((34, 139, 34))\n",
        "    for i in range(9):\n",
        "        pygame.draw.line(screen, (0, 0, 0), (i * 75, 0), (i * 75, 600))\n",
        "        pygame.draw.line(screen, (0, 0, 0), (0, i * 75), (600, i * 75))\n",
        "    for r in range(8):\n",
        "        for c in range(8):\n",
        "            if game.board[r][c] == 'B':\n",
        "                pygame.draw.circle(screen, (0, 0, 0), (c * 75 + 37, r * 75 + 37), 30)\n",
        "            elif game.board[r][c] == 'W':\n",
        "                pygame.draw.circle(screen, (255, 255, 255), (c * 75 + 37, r * 75 + 37), 30)\n",
        "    font = pygame.font.Font(None, 36)\n",
        "    turn_text = font.render(f\"Turn: {game.turn_count}\", True, (255, 255, 255))\n",
        "    screen.blit(turn_text, (10, 10))\n",
        "\n",
        "    pygame.display.flip()\n",
        "running = True\n",
        "while running:\n",
        "    draw_board(screen, game)\n",
        "\n",
        "    for event in pygame.event.get():\n",
        "        if event.type == pygame.QUIT:\n",
        "            running = False\n",
        "        elif event.type == pygame.MOUSEBUTTONDOWN and game.current_player == 'B':\n",
        "            x, y = pygame.mouse.get_pos()\n",
        "            row, col = y // 75, x // 75\n",
        "            if (row, col) in game.get_valid_moves():\n",
        "                game.make_move(row, col)\n",
        "        elif game.current_player == 'W':\n",
        "            ai_move = agent.get_move(game)\n",
        "            if ai_move:\n",
        "                game.make_move(*ai_move)\n",
        "\n",
        "    if game.game_over():\n",
        "        print(\"Game Over! Winner:\", game.get_winner())\n",
        "        pygame.time.delay(3000)\n",
        "        running = False\n",
        "\n",
        "pygame.quit()"
      ]
    },
    {
      "cell_type": "markdown",
      "metadata": {
        "id": "eqylkEwAXM_q"
      },
      "source": [
        "you can use this code to make two agents play each other"
      ]
    },
    {
      "cell_type": "code",
      "execution_count": 19,
      "metadata": {
        "id": "3A8LMwXBXM_q",
        "outputId": "84a7b061-3836-47a0-de10-55f5856fccec",
        "colab": {
          "base_uri": "https://localhost:8080/"
        }
      },
      "outputs": [
        {
          "output_type": "stream",
          "name": "stdout",
          "text": [
            "Game Over! Winner: Black Wins!\n"
          ]
        }
      ],
      "source": [
        "import pygame\n",
        "\n",
        "pygame.init()\n",
        "screen = pygame.display.set_mode((600, 600))\n",
        "pygame.display.set_caption(\"Othello AI vs AI\")\n",
        "game = Othello()\n",
        "ai_player_B = AlphaBetaAgent(depth=6)\n",
        "ai_player_W = ExpectimaxAgent(depth=4)\n",
        "\n",
        "def draw_board(screen, game):\n",
        "    \"\"\" Draws the Othello board and pieces \"\"\"\n",
        "    screen.fill((34, 139, 34))\n",
        "    for i in range(9):\n",
        "        pygame.draw.line(screen, (0, 0, 0), (i * 75, 0), (i * 75, 600))\n",
        "        pygame.draw.line(screen, (0, 0, 0), (0, i * 75), (600, i * 75))\n",
        "\n",
        "    for r in range(8):\n",
        "        for c in range(8):\n",
        "            if game.board[r][c] == 'B':\n",
        "                pygame.draw.circle(screen, (0, 0, 0), (c * 75 + 37, r * 75 + 37), 30)\n",
        "            elif game.board[r][c] == 'W':\n",
        "                pygame.draw.circle(screen, (255, 255, 255), (c * 75 + 37, r * 75 + 37), 30)\n",
        "\n",
        "    font = pygame.font.Font(None, 36)\n",
        "    turn_text = font.render(f\"Turn: {game.turn_count}\", True, (255, 255, 255))\n",
        "    screen.blit(turn_text, (10, 10))\n",
        "\n",
        "    pygame.display.flip()\n",
        "running = True\n",
        "while running:\n",
        "    pygame.event.pump()\n",
        "    draw_board(screen, game)\n",
        "\n",
        "    if game.game_over():\n",
        "        print(\"Game Over! Winner:\", game.get_winner())\n",
        "        pygame.time.delay(3000)\n",
        "        break\n",
        "    valid_moves = game.get_valid_moves()\n",
        "\n",
        "    if not valid_moves:\n",
        "        print(f\"No valid moves for {game.current_player}. Skipping turn.\")\n",
        "        game.current_player = 'B' if game.current_player == 'W' else 'W'\n",
        "        continue\n",
        "    pygame.time.delay(500)\n",
        "    if game.current_player == 'B':\n",
        "        ai_move = ai_player_B.get_move(game)\n",
        "    else:\n",
        "        ai_move = ai_player_W.get_move(game)\n",
        "\n",
        "    if ai_move:\n",
        "        game.make_move(*ai_move)\n",
        "\n",
        "pygame.quit()\n"
      ]
    }
  ],
  "metadata": {
    "colab": {
      "provenance": []
    },
    "kernelspec": {
      "display_name": "Python 3 (ipykernel)",
      "language": "python",
      "name": "python3"
    },
    "language_info": {
      "codemirror_mode": {
        "name": "ipython",
        "version": 3
      },
      "file_extension": ".py",
      "mimetype": "text/x-python",
      "name": "python",
      "nbconvert_exporter": "python",
      "pygments_lexer": "ipython3",
      "version": "3.13.2"
    }
  },
  "nbformat": 4,
  "nbformat_minor": 0
}